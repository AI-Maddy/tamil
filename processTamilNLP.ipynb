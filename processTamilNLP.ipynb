{
 "cells": [
  {
   "cell_type": "code",
   "execution_count": 11,
   "id": "3b22827c",
   "metadata": {},
   "outputs": [],
   "source": [
    "all_text = \"\"\n",
    "psFileName = \"ponniyinSelvan\"\n",
    "\n",
    "import io\n",
    "for i in range(1,6):\n",
    "    with io.open(psFileName+str(i)+\".txt\",'r',encoding='utf8') as f:\n",
    "        text = f.read()\n",
    "        all_text = all_text +text"
   ]
  },
  {
   "cell_type": "code",
   "execution_count": 57,
   "id": "374ac5a1",
   "metadata": {},
   "outputs": [],
   "source": [
    "paras = []\n",
    "import re\n",
    "\n",
    "paras = re.split('\"|\\n|\\t|\\?|!|\\.|,',all_text)"
   ]
  },
  {
   "cell_type": "code",
   "execution_count": 62,
   "id": "9934b96d",
   "metadata": {},
   "outputs": [],
   "source": [
    "paras_clean=[]\n",
    "index =0\n",
    "for a in paras:\n",
    "    index = index+1\n",
    "    a = re.sub('^ ','',a)\n",
    "    a = re.sub(' $','',a)\n",
    "    a = re.sub('\\'','',a)\n",
    "    if len(a)>0:\n",
    "\n",
    "        if a != 'பக்க தலைப்பு':\n",
    "            paras_clean.append(a)\n"
   ]
  },
  {
   "cell_type": "code",
   "execution_count": 63,
   "id": "d61a5034",
   "metadata": {},
   "outputs": [],
   "source": [
    "with open('PS_Docs.csv', 'w') as f:\n",
    "    for line in paras_clean:\n",
    "        f.write(\"%s,\\n\" % line)"
   ]
  },
  {
   "cell_type": "code",
   "execution_count": null,
   "id": "65625209",
   "metadata": {},
   "outputs": [],
   "source": []
  }
 ],
 "metadata": {
  "kernelspec": {
   "display_name": "Python 3 (ipykernel)",
   "language": "python",
   "name": "python3"
  },
  "language_info": {
   "codemirror_mode": {
    "name": "ipython",
    "version": 3
   },
   "file_extension": ".py",
   "mimetype": "text/x-python",
   "name": "python",
   "nbconvert_exporter": "python",
   "pygments_lexer": "ipython3",
   "version": "3.9.12"
  }
 },
 "nbformat": 4,
 "nbformat_minor": 5
}
