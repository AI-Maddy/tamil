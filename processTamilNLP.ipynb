{
 "cells": [
  {
   "cell_type": "code",
   "execution_count": 149,
   "id": "2ece1582",
   "metadata": {},
   "outputs": [],
   "source": [
    "all_text = \"\"\n",
    "psFileName = \"ponniyinSelvan\"\n",
    "\n",
    "import io\n",
    "for i in range(1,6):\n",
    "    with io.open(psFileName+str(i)+\".txt\",'r',encoding='utf8') as f:\n",
    "        text = f.read()\n",
    "        all_text = all_text +text"
   ]
  },
  {
   "cell_type": "code",
   "execution_count": 150,
   "id": "4ff7c96a",
   "metadata": {},
   "outputs": [],
   "source": [
    "paras = []\n",
    "import re\n",
    "\n",
    "paras = re.split('\\\"|\\'|\\n|\\s|\\t|\\?|!|\\.|,',all_text)"
   ]
  },
  {
   "cell_type": "code",
   "execution_count": 62,
   "id": "674c6232",
   "metadata": {},
   "outputs": [],
   "source": [
    "paras_clean=[]\n",
    "index =0\n",
    "for a in paras:\n",
    "    index = index+1\n",
    "    a = re.sub('^ ','',a)\n",
    "    a = re.sub(' $','',a)\n",
    "    a = re.sub('\\'','',a)\n",
    "    if len(a)>0:\n",
    "\n",
    "        if a != 'பக்க தலைப்பு':\n",
    "            paras_clean.append(a)\n"
   ]
  },
  {
   "cell_type": "code",
   "execution_count": 87,
   "id": "e859c2bc",
   "metadata": {},
   "outputs": [],
   "source": [
    "with open('PS_Docs.csv', 'w') as f:\n",
    "    for line in paras_clean:\n",
    "        f.write(\"%s,\\n\" % line)"
   ]
  },
  {
   "cell_type": "code",
   "execution_count": 151,
   "id": "8e334d6a",
   "metadata": {},
   "outputs": [],
   "source": [
    "wordList = []\n",
    "import re\n",
    "words = []\n",
    "for para1 in paras:\n",
    "    wordList = re.split('''\\'''',para1)\n",
    "    if len(wordList)>0:\n",
    "        words.append(wordList)\n",
    "   \n",
    "\n"
   ]
  },
  {
   "cell_type": "code",
   "execution_count": 76,
   "id": "6683778a",
   "metadata": {},
   "outputs": [
    {
     "name": "stderr",
     "output_type": "stream",
     "text": [
      "[nltk_data] Downloading package punkt to /home/hcl/nltk_data...\n",
      "[nltk_data]   Unzipping tokenizers/punkt.zip.\n"
     ]
    },
    {
     "data": {
      "text/plain": [
       "True"
      ]
     },
     "execution_count": 76,
     "metadata": {},
     "output_type": "execute_result"
    }
   ],
   "source": [
    "from nltk.tokenize import word_tokenize\n",
    "import nltk\n",
    "nltk.download('punkt')\n",
    "\n"
   ]
  },
  {
   "cell_type": "code",
   "execution_count": 77,
   "id": "2ad892ca",
   "metadata": {},
   "outputs": [],
   "source": [
    "allWords = word_tokenize(all_text)"
   ]
  },
  {
   "cell_type": "code",
   "execution_count": 154,
   "id": "6d4d9b9e",
   "metadata": {},
   "outputs": [],
   "source": [
    "wordsSet = set(paras)"
   ]
  },
  {
   "cell_type": "code",
   "execution_count": 155,
   "id": "b83acf8f",
   "metadata": {},
   "outputs": [
    {
     "name": "stdout",
     "output_type": "stream",
     "text": [
      "512909 72075 512909\n"
     ]
    }
   ],
   "source": [
    "print(len(words), len(wordsSet),len(paras))"
   ]
  },
  {
   "cell_type": "code",
   "execution_count": 156,
   "id": "121d6482",
   "metadata": {},
   "outputs": [],
   "source": [
    "uniqueWords = list(wordsSet)"
   ]
  },
  {
   "cell_type": "code",
   "execution_count": 157,
   "id": "b71e6a7c",
   "metadata": {},
   "outputs": [
    {
     "data": {
      "text/plain": [
       "72075"
      ]
     },
     "execution_count": 157,
     "metadata": {},
     "output_type": "execute_result"
    }
   ],
   "source": [
    "len(uniqueWords)"
   ]
  },
  {
   "cell_type": "code",
   "execution_count": 159,
   "id": "15fc74bc",
   "metadata": {},
   "outputs": [],
   "source": [
    "with open('PS_Words.csv', 'w') as f:\n",
    "    for line in uniqueWords:\n",
    "        f.write(\"%s,\\n\" % line)"
   ]
  },
  {
   "cell_type": "code",
   "execution_count": null,
   "id": "900ad9c5",
   "metadata": {},
   "outputs": [],
   "source": []
  }
 ],
 "metadata": {
  "kernelspec": {
   "display_name": "Python 3 (ipykernel)",
   "language": "python",
   "name": "python3"
  },
  "language_info": {
   "codemirror_mode": {
    "name": "ipython",
    "version": 3
   },
   "file_extension": ".py",
   "mimetype": "text/x-python",
   "name": "python",
   "nbconvert_exporter": "python",
   "pygments_lexer": "ipython3",
   "version": "3.9.12"
  }
 },
 "nbformat": 4,
 "nbformat_minor": 5
}
