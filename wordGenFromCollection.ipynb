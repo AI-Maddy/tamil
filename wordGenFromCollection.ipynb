{
 "cells": [
  {
   "cell_type": "code",
   "execution_count": 1,
   "id": "f4643188",
   "metadata": {},
   "outputs": [
    {
     "name": "stderr",
     "output_type": "stream",
     "text": [
      "2022-10-22 18:11:18.075032: I tensorflow/core/platform/cpu_feature_guard.cc:193] This TensorFlow binary is optimized with oneAPI Deep Neural Network Library (oneDNN) to use the following CPU instructions in performance-critical operations:  AVX2 FMA\n",
      "To enable them in other operations, rebuild TensorFlow with the appropriate compiler flags.\n",
      "2022-10-22 18:11:18.224245: W tensorflow/stream_executor/platform/default/dso_loader.cc:64] Could not load dynamic library 'libcudart.so.11.0'; dlerror: libcudart.so.11.0: cannot open shared object file: No such file or directory\n",
      "2022-10-22 18:11:18.224269: I tensorflow/stream_executor/cuda/cudart_stub.cc:29] Ignore above cudart dlerror if you do not have a GPU set up on your machine.\n",
      "2022-10-22 18:11:18.253279: E tensorflow/stream_executor/cuda/cuda_blas.cc:2981] Unable to register cuBLAS factory: Attempting to register factory for plugin cuBLAS when one has already been registered\n",
      "2022-10-22 18:11:19.191362: W tensorflow/stream_executor/platform/default/dso_loader.cc:64] Could not load dynamic library 'libnvinfer.so.7'; dlerror: libnvinfer.so.7: cannot open shared object file: No such file or directory\n",
      "2022-10-22 18:11:19.191446: W tensorflow/stream_executor/platform/default/dso_loader.cc:64] Could not load dynamic library 'libnvinfer_plugin.so.7'; dlerror: libnvinfer_plugin.so.7: cannot open shared object file: No such file or directory\n",
      "2022-10-22 18:11:19.191456: W tensorflow/compiler/tf2tensorrt/utils/py_utils.cc:38] TF-TRT Warning: Cannot dlopen some TensorRT libraries. If you would like to use Nvidia GPU with TensorRT, please make sure the missing libraries mentioned above are installed properly.\n"
     ]
    }
   ],
   "source": [
    "# Importing required libraries\n",
    "import tensorflow as tf\n",
    "from tensorflow import keras\n",
    "from tensorflow.keras.preprocessing.text import Tokenizer"
   ]
  },
  {
   "cell_type": "code",
   "execution_count": 2,
   "id": "7eb10489",
   "metadata": {},
   "outputs": [],
   "source": [
    "psText = \"\"\n",
    "psFileName = \"ponniyinSelvan\"\n",
    "\n",
    "import io\n",
    "for i in range(1,6):\n",
    "    with io.open(psFileName+str(i)+\".txt\",'r',encoding='utf8') as f:\n",
    "        text = f.read()\n",
    "        psText = psText +text"
   ]
  },
  {
   "cell_type": "code",
   "execution_count": 3,
   "id": "d8e70572",
   "metadata": {},
   "outputs": [],
   "source": [
    "collectText = \"\"\n",
    "collectFileName = \"collection\"\n",
    "\n",
    "import io\n",
    "for i in range(1,11):\n",
    "    with io.open(collectFileName+str(i)+\".txt\",'r',encoding='utf8') as f:\n",
    "        text = f.read()\n",
    "        collectText = collectText +text"
   ]
  },
  {
   "cell_type": "code",
   "execution_count": 5,
   "id": "4e73a6dc",
   "metadata": {},
   "outputs": [],
   "source": [
    "paras = []\n",
    "import re\n",
    "\n",
    "paras = re.split('\\\"|\\'|\\n|\\t|\\?|!|\\.',psText)"
   ]
  },
  {
   "cell_type": "code",
   "execution_count": 6,
   "id": "332bd5cb",
   "metadata": {},
   "outputs": [],
   "source": [
    "paras1 = []\n",
    "import re\n",
    "\n",
    "paras1 = re.split('\\\"|\\'|\\n|\\t|\\?|!|\\.',collectText)"
   ]
  },
  {
   "cell_type": "code",
   "execution_count": 7,
   "id": "19e271ca",
   "metadata": {},
   "outputs": [],
   "source": [
    "sentences = []\n",
    "for a in paras:\n",
    "    a = re.sub('^ ','',a)\n",
    "    a = re.sub(' $','',a)\n",
    "    a = re.sub(',',' ',a)\n",
    "    a = re.sub('  ',' ',a)\n",
    "    if len(a)>1:\n",
    "        sentences.append(a)"
   ]
  },
  {
   "cell_type": "code",
   "execution_count": 8,
   "id": "24990627",
   "metadata": {},
   "outputs": [],
   "source": [
    "sentences1 = []\n",
    "for a in paras1:\n",
    "    a = re.sub('^ ','',a)\n",
    "    a = re.sub(' $','',a)\n",
    "    a = re.sub(',',' ',a)\n",
    "    a = re.sub('  ',' ',a)\n",
    "    if len(a)>1:\n",
    "        sentences1.append(a)"
   ]
  },
  {
   "cell_type": "code",
   "execution_count": 9,
   "id": "940d95b4",
   "metadata": {},
   "outputs": [],
   "source": [
    "import io\n",
    "import re\n",
    "import string\n",
    "import tqdm\n",
    "\n",
    "import numpy as np\n",
    "\n",
    "import tensorflow as tf\n",
    "from tensorflow.keras import layers"
   ]
  },
  {
   "cell_type": "code",
   "execution_count": 10,
   "id": "40ac8486",
   "metadata": {},
   "outputs": [],
   "source": [
    "# Load the TensorBoard notebook extension\n",
    "%load_ext tensorboard"
   ]
  },
  {
   "cell_type": "code",
   "execution_count": 11,
   "id": "422492ce",
   "metadata": {},
   "outputs": [],
   "source": [
    "SEED = 42\n",
    "AUTOTUNE = tf.data.AUTOTUNE"
   ]
  },
  {
   "cell_type": "code",
   "execution_count": 14,
   "id": "feb8f32b",
   "metadata": {},
   "outputs": [],
   "source": [
    "tokens = []\n",
    "for sentence in sentences:\n",
    "    a = list(sentence.split())\n",
    "    for items in a:\n",
    "        if len(items) >0:\n",
    "            tokens.append(items)\n",
    "for sentence in sentences1:\n",
    "    a = list(sentence.split())\n",
    "    for items in a: \n",
    "        if len(items) >0:\n",
    "            tokens.append(items)      "
   ]
  },
  {
   "cell_type": "code",
   "execution_count": 16,
   "id": "7ef660f9",
   "metadata": {},
   "outputs": [],
   "source": [
    "vocab, index = {}, 1  # start indexing from 1\n",
    "vocab['<pad>'] = 0  # add a padding token\n",
    "for token in tokens:\n",
    "    if token not in vocab:\n",
    "        vocab[token] = index\n",
    "        index += 1\n",
    "vocab_size = len(vocab)\n"
   ]
  },
  {
   "cell_type": "code",
   "execution_count": 17,
   "id": "5c19792d",
   "metadata": {},
   "outputs": [],
   "source": [
    "inverse_vocab = {index: token for token, index in vocab.items()}\n"
   ]
  },
  {
   "cell_type": "code",
   "execution_count": 18,
   "id": "b3074807",
   "metadata": {},
   "outputs": [],
   "source": [
    "#Vectorize your sentence\n",
    "vectorSequences = []\n",
    "for sentence in sentences:\n",
    "    tokens = list(sentence.split())\n",
    "    s1 = [vocab[word] for word in tokens]\n",
    "    vectorSequences.append(s1)\n",
    "for sentence in sentences1:\n",
    "    tokens = list(sentence.split())\n",
    "    s1 = [vocab[word] for word in tokens]\n",
    "    vectorSequences.append(s1)    "
   ]
  },
  {
   "cell_type": "code",
   "execution_count": 26,
   "id": "4885c253",
   "metadata": {},
   "outputs": [],
   "source": [
    "window_size = 2\n",
    "skipgramList = []\n",
    "a = vectorSequences[250]\n",
    "for a in vectorSequences:\n",
    "    positive_skip_grams, _ = tf.keras.preprocessing.sequence.skipgrams(      a,      vocabulary_size=vocab_size,      window_size=window_size,      negative_samples=0)\n",
    "    for b in positive_skip_grams:\n",
    "        skipgramList.append(b)\n"
   ]
  },
  {
   "cell_type": "code",
   "execution_count": 30,
   "id": "4992bb5a",
   "metadata": {},
   "outputs": [
    {
     "name": "stdout",
     "output_type": "stream",
     "text": [
      "tf.Tensor([ 3492   118 42595   627], shape=(4,), dtype=int64)\n",
      "['பயந்தவன்', 'காலப்போக்கில்', 'படிக்கத்', 'எடுப்பித்ததை']\n"
     ]
    },
    {
     "name": "stderr",
     "output_type": "stream",
     "text": [
      "2022-10-23 09:16:25.786608: I tensorflow/stream_executor/cuda/cuda_gpu_executor.cc:980] successful NUMA node read from SysFS had negative value (-1), but there must be at least one NUMA node, so returning NUMA node zero\n",
      "2022-10-23 09:16:25.787028: W tensorflow/stream_executor/platform/default/dso_loader.cc:64] Could not load dynamic library 'libcudart.so.11.0'; dlerror: libcudart.so.11.0: cannot open shared object file: No such file or directory\n",
      "2022-10-23 09:16:25.787148: W tensorflow/stream_executor/platform/default/dso_loader.cc:64] Could not load dynamic library 'libcublas.so.11'; dlerror: libcublas.so.11: cannot open shared object file: No such file or directory\n",
      "2022-10-23 09:16:25.787248: W tensorflow/stream_executor/platform/default/dso_loader.cc:64] Could not load dynamic library 'libcublasLt.so.11'; dlerror: libcublasLt.so.11: cannot open shared object file: No such file or directory\n",
      "2022-10-23 09:16:25.787346: W tensorflow/stream_executor/platform/default/dso_loader.cc:64] Could not load dynamic library 'libcufft.so.10'; dlerror: libcufft.so.10: cannot open shared object file: No such file or directory\n",
      "2022-10-23 09:16:25.787450: W tensorflow/stream_executor/platform/default/dso_loader.cc:64] Could not load dynamic library 'libcurand.so.10'; dlerror: libcurand.so.10: cannot open shared object file: No such file or directory\n",
      "2022-10-23 09:16:25.787549: W tensorflow/stream_executor/platform/default/dso_loader.cc:64] Could not load dynamic library 'libcusolver.so.11'; dlerror: libcusolver.so.11: cannot open shared object file: No such file or directory\n",
      "2022-10-23 09:16:25.787648: W tensorflow/stream_executor/platform/default/dso_loader.cc:64] Could not load dynamic library 'libcusparse.so.11'; dlerror: libcusparse.so.11: cannot open shared object file: No such file or directory\n",
      "2022-10-23 09:16:25.787747: W tensorflow/stream_executor/platform/default/dso_loader.cc:64] Could not load dynamic library 'libcudnn.so.8'; dlerror: libcudnn.so.8: cannot open shared object file: No such file or directory\n",
      "2022-10-23 09:16:25.787763: W tensorflow/core/common_runtime/gpu/gpu_device.cc:1934] Cannot dlopen some GPU libraries. Please make sure the missing libraries mentioned above are installed properly if you would like to use GPU. Follow the guide at https://www.tensorflow.org/install/gpu for how to download and setup the required libraries for your platform.\n",
      "Skipping registering GPU devices...\n",
      "2022-10-23 09:16:25.832392: I tensorflow/core/platform/cpu_feature_guard.cc:193] This TensorFlow binary is optimized with oneAPI Deep Neural Network Library (oneDNN) to use the following CPU instructions in performance-critical operations:  AVX2 FMA\n",
      "To enable them in other operations, rebuild TensorFlow with the appropriate compiler flags.\n"
     ]
    }
   ],
   "source": [
    "# Get target and context words for one positive skip-gram.\n",
    "target_word, context_word = skipgramList[1000]\n",
    "\n",
    "# Set the number of negative samples per positive context.\n",
    "num_ns = 4\n",
    "\n",
    "context_class = tf.reshape(tf.constant(context_word, dtype=\"int64\"), (1, 1))\n",
    "negative_sampling_candidates, _, _ = tf.random.log_uniform_candidate_sampler(\n",
    "    true_classes=context_class,  # class that should be sampled as 'positive'\n",
    "    num_true=1,  # each positive skip-gram has 1 positive context class\n",
    "    num_sampled=num_ns,  # number of negative context words to sample\n",
    "    unique=True,  # all the negative samples should be unique\n",
    "    range_max=vocab_size,  # pick index of the samples from [0, vocab_size]\n",
    "    seed=SEED,  # seed for reproducibility\n",
    "    name=\"negative_sampling\"  # name of this operation\n",
    ")\n",
    "print(negative_sampling_candidates)\n",
    "print([inverse_vocab[index.numpy()] for index in negative_sampling_candidates])"
   ]
  },
  {
   "cell_type": "code",
   "execution_count": 31,
   "id": "c5a3a73c",
   "metadata": {},
   "outputs": [],
   "source": [
    "# Add a dimension so you can use concatenation (in the next step).\n",
    "negative_sampling_candidates = tf.expand_dims(negative_sampling_candidates, 1)\n",
    "\n",
    "# Concatenate a positive context word with negative sampled words.\n",
    "context = tf.concat([context_class, negative_sampling_candidates], 0)\n",
    "\n",
    "# Label the first context word as `1` (positive) followed by `num_ns` `0`s (negative).\n",
    "label = tf.constant([1] + [0]*num_ns, dtype=\"int64\")\n",
    "\n",
    "# Reshape the target to shape `(1,)` and context and label to `(num_ns+1,)`.\n",
    "target = tf.squeeze(target_word)\n",
    "context = tf.squeeze(context)\n",
    "label = tf.squeeze(label)"
   ]
  },
  {
   "cell_type": "code",
   "execution_count": 32,
   "id": "d9d68ad9",
   "metadata": {},
   "outputs": [
    {
     "name": "stdout",
     "output_type": "stream",
     "text": [
      "target_index    : 234\n",
      "target_word     : வழக்கம்\n",
      "context_indices : [  244  3492   118 42595   627]\n",
      "context_words   : ['அலைமோதிக்', 'பயந்தவன்', 'காலப்போக்கில்', 'படிக்கத்', 'எடுப்பித்ததை']\n",
      "label           : [1 0 0 0 0]\n"
     ]
    }
   ],
   "source": [
    "print(f\"target_index    : {target}\")\n",
    "print(f\"target_word     : {inverse_vocab[target_word]}\")\n",
    "print(f\"context_indices : {context}\")\n",
    "print(f\"context_words   : {[inverse_vocab[c.numpy()] for c in context]}\")\n",
    "print(f\"label           : {label}\")"
   ]
  },
  {
   "cell_type": "code",
   "execution_count": 33,
   "id": "250e989b",
   "metadata": {},
   "outputs": [
    {
     "name": "stdout",
     "output_type": "stream",
     "text": [
      "target  : tf.Tensor(234, shape=(), dtype=int32)\n",
      "context : tf.Tensor([  244  3492   118 42595   627], shape=(5,), dtype=int64)\n",
      "label   : tf.Tensor([1 0 0 0 0], shape=(5,), dtype=int64)\n"
     ]
    }
   ],
   "source": [
    "print(\"target  :\", target)\n",
    "print(\"context :\", context)\n",
    "print(\"label   :\", label)"
   ]
  },
  {
   "cell_type": "code",
   "execution_count": null,
   "id": "1f86e0d2",
   "metadata": {},
   "outputs": [],
   "source": []
  },
  {
   "cell_type": "code",
   "execution_count": null,
   "id": "896303eb",
   "metadata": {},
   "outputs": [],
   "source": []
  }
 ],
 "metadata": {
  "kernelspec": {
   "display_name": "Python 3 (ipykernel)",
   "language": "python",
   "name": "python3"
  },
  "language_info": {
   "codemirror_mode": {
    "name": "ipython",
    "version": 3
   },
   "file_extension": ".py",
   "mimetype": "text/x-python",
   "name": "python",
   "nbconvert_exporter": "python",
   "pygments_lexer": "ipython3",
   "version": "3.9.12"
  }
 },
 "nbformat": 4,
 "nbformat_minor": 5
}
